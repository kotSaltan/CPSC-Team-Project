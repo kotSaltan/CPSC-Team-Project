{
 "cells": [
  {
   "cell_type": "code",
   "execution_count": 1,
   "metadata": {},
   "outputs": [],
   "source": [
    "import os\n",
    "import pandas as pd\n",
    "\n"
   ]
  },
  {
   "cell_type": "code",
   "execution_count": 3,
   "metadata": {},
   "outputs": [
    {
     "data": {
      "text/plain": [
       "'./data/CSV Files'"
      ]
     },
     "execution_count": 3,
     "metadata": {},
     "output_type": "execute_result"
    }
   ],
   "source": [
    "data_path = \"./data/CSV Files\"  # Adjust this path to your folder with CSV files\n",
    "data_path"
   ]
  },
  {
   "cell_type": "markdown",
   "metadata": {},
   "source": [
    "# List and Filter \"Hotspots\" Files"
   ]
  },
  {
   "cell_type": "code",
   "execution_count": 4,
   "metadata": {},
   "outputs": [
    {
     "name": "stdout",
     "output_type": "stream",
     "text": [
      "Hotspots Files: ['2013_Hotspots.csv', '2014_Hotspots.csv', '2015_Hotspots.csv', '2016_Hotspots.csv', '2017_Hotspots.csv', '2018_Hotspots.csv', '2019_Hotspots.csv', '2020_Hotspots.csv', '2021_Hotspots.csv', '2022_Hotspots.csv', '2023_Hotspots.csv']\n"
     ]
    }
   ],
   "source": [
    "# List all files in the data directory\n",
    "all_files = os.listdir(data_path)\n",
    "\n",
    "# Filter for files with \"Hotspots\" in their names\n",
    "hotspots_files = [f for f in all_files if \"Hotspots\" in f]\n",
    "print(\"Hotspots Files:\", hotspots_files)\n"
   ]
  },
  {
   "cell_type": "markdown",
   "metadata": {},
   "source": [
    "# Load All \"Hotspots\" Files"
   ]
  },
  {
   "cell_type": "markdown",
   "metadata": {},
   "source": [
    "Load files into a single DataFrame"
   ]
  },
  {
   "cell_type": "code",
   "execution_count": 5,
   "metadata": {},
   "outputs": [
    {
     "name": "stderr",
     "output_type": "stream",
     "text": [
      "C:\\Users\\Anna Dorosheva\\AppData\\Local\\Temp\\ipykernel_17924\\1457007091.py:7: DtypeWarning: Columns (30) have mixed types. Specify dtype option on import or set low_memory=False.\n",
      "  df = pd.read_csv(file_path)\n",
      "C:\\Users\\Anna Dorosheva\\AppData\\Local\\Temp\\ipykernel_17924\\1457007091.py:7: DtypeWarning: Columns (31) have mixed types. Specify dtype option on import or set low_memory=False.\n",
      "  df = pd.read_csv(file_path)\n"
     ]
    },
    {
     "name": "stdout",
     "output_type": "stream",
     "text": [
      "<class 'pandas.core.frame.DataFrame'>\n",
      "RangeIndex: 11073907 entries, 0 to 11073906\n",
      "Data columns (total 73 columns):\n",
      " #   Column     Dtype  \n",
      "---  ------     -----  \n",
      " 0   LAT        float64\n",
      " 1   LON        float64\n",
      " 2   REP_DATE   object \n",
      " 3   UID        float64\n",
      " 4   SOURCE     object \n",
      " 5   SENSOR     object \n",
      " 6   SATELLITE  object \n",
      " 7   AGENCY     object \n",
      " 8   TEMP       float64\n",
      " 9   RH         float64\n",
      " 10  WS         float64\n",
      " 11  WD         float64\n",
      " 12  PCP        float64\n",
      " 13  FFMC       float64\n",
      " 14  DMC        float64\n",
      " 15  DC         float64\n",
      " 16  ISI        float64\n",
      " 17  BUI        float64\n",
      " 18  FWI        float64\n",
      " 19  FUEL       object \n",
      " 20  ROS        float64\n",
      " 21  SFC        float64\n",
      " 22  TFC        float64\n",
      " 23  BFC        float64\n",
      " 24  HFI        float64\n",
      " 25  CFB        float64\n",
      " 26  AGE        float64\n",
      " 27  ESTAREA    float64\n",
      " 28  POLYID     float64\n",
      " 29  PCURING    float64\n",
      " 30  CFACTOR    float64\n",
      " 31  GREENUP    float64\n",
      " 32  ELEV       float64\n",
      " 33  Year       object \n",
      " 34  lat        float64\n",
      " 35  lon        float64\n",
      " 36  rep_date   object \n",
      " 37  uid        float64\n",
      " 38  source     object \n",
      " 39  sensor     object \n",
      " 40  satellite  object \n",
      " 41  agency     object \n",
      " 42  temp       float64\n",
      " 43  rh         float64\n",
      " 44  ws         float64\n",
      " 45  wd         float64\n",
      " 46  pcp        float64\n",
      " 47  ffmc       float64\n",
      " 48  dmc        float64\n",
      " 49  dc         float64\n",
      " 50  isi        float64\n",
      " 51  bui        float64\n",
      " 52  fwi        float64\n",
      " 53  fuel       object \n",
      " 54  ros        float64\n",
      " 55  sfc        float64\n",
      " 56  tfc        float64\n",
      " 57  bfc        float64\n",
      " 58  hfi        float64\n",
      " 59  cfb        float64\n",
      " 60  age        float64\n",
      " 61  estarea    float64\n",
      " 62  polyid     float64\n",
      " 63  pcuring    float64\n",
      " 64  cfactor    float64\n",
      " 65  greenup    float64\n",
      " 66  elev       float64\n",
      " 67  cfl        float64\n",
      " 68  tfc0       float64\n",
      " 69  sfl        float64\n",
      " 70  ecozone    object \n",
      " 71  sfc0       float64\n",
      " 72  cbh        float64\n",
      "dtypes: float64(59), object(14)\n",
      "memory usage: 6.0+ GB\n",
      "None\n"
     ]
    }
   ],
   "source": [
    "# empty list to store DataFrames\n",
    "data_frames = []\n",
    "\n",
    "# Load each file into a DataFrame\n",
    "for file in hotspots_files:\n",
    "    file_path = os.path.join(data_path, file)\n",
    "    df = pd.read_csv(file_path)\n",
    "    \n",
    "    # Add a column to id the year (from the file name)\n",
    "    df[\"Year\"] = file.split(\"_\")[0]\n",
    "    data_frames.append(df)\n",
    "\n",
    "# Combine all DataFrames into a single DataFrame\n",
    "combined_data = pd.concat(data_frames, ignore_index=True)\n",
    "\n",
    "# Check the structure of the df\n",
    "print(combined_data.info())\n"
   ]
  },
  {
   "cell_type": "code",
   "execution_count": 6,
   "metadata": {},
   "outputs": [
    {
     "name": "stdout",
     "output_type": "stream",
     "text": [
      "                LAT           LON           UID          TEMP            RH  \\\n",
      "count  2.363453e+06  2.363453e+06  2.363453e+06  2.363453e+06  2.363453e+06   \n",
      "mean   5.096304e+01 -1.123082e+02  1.887034e+07  2.296055e+01  3.789854e+01   \n",
      "std    9.770663e+00  1.423721e+01  1.089811e+07  8.362649e+00  1.501395e+01   \n",
      "min    2.500000e+01 -1.645920e+02  8.768650e+05 -8.080100e+01  0.000000e+00   \n",
      "25%    4.451000e+01 -1.211970e+02  1.082775e+07  1.994600e+01  2.700000e+01   \n",
      "50%    5.238320e+01 -1.140060e+02  1.461281e+07  2.339600e+01  3.600000e+01   \n",
      "75%    5.904900e+01 -1.062980e+02  3.108121e+07  2.646800e+01  4.700000e+01   \n",
      "max    7.040500e+01 -5.215700e+01  3.167208e+07  2.707230e+02  1.000000e+02   \n",
      "\n",
      "                 WS            WD           PCP          FFMC           DMC  \\\n",
      "count  2.363453e+06  2.363453e+06  2.362958e+06  2.362491e+06  2.362491e+06   \n",
      "mean   1.261598e+01  1.901225e+02  4.881391e-01  8.866972e+01  9.011106e+01   \n",
      "std    6.124848e+00  1.017106e+02  4.675652e+00  9.719038e+00  7.709139e+01   \n",
      "min    0.000000e+00  0.000000e+00  0.000000e+00  0.000000e+00  0.000000e+00   \n",
      "25%    8.600000e+00  1.200000e+02  0.000000e+00  8.760000e+01  4.263900e+01   \n",
      "50%    1.152000e+01  2.000000e+02  0.000000e+00  9.069100e+01  6.902800e+01   \n",
      "75%    1.547700e+01  2.710000e+02  1.520000e-01  9.325600e+01  1.143050e+02   \n",
      "max    9.380300e+01  3.600000e+02  1.039390e+03  1.000000e+02  7.807000e+02   \n",
      "\n",
      "       ...  polyid       pcuring        cfactor       greenup          elev  \\\n",
      "count  ...     0.0  5.252943e+06  812550.000000  5.252943e+06  8.710454e+06   \n",
      "mean   ...     NaN  5.490786e+01       0.256747  7.030097e-01  7.701303e+02   \n",
      "std    ...     NaN  3.008169e+01       0.343516  4.569323e-01  6.646475e+02   \n",
      "min    ...     NaN -1.000000e+00      -1.000000  0.000000e+00 -1.000000e+00   \n",
      "25%    ...     NaN  2.600000e+01       0.020000  0.000000e+00  2.980000e+02   \n",
      "50%    ...     NaN  5.000000e+01       0.100000  1.000000e+00  4.910000e+02   \n",
      "75%    ...     NaN  7.500000e+01       0.500000  1.000000e+00  1.114000e+03   \n",
      "max    ...     NaN  1.250000e+02       1.000000  1.000000e+00  3.840000e+03   \n",
      "\n",
      "                cfl          tfc0           sfl          sfc0           cbh  \n",
      "count  8.646562e+06  8.644982e+06  8.167975e+06  7.884576e+06  1.422164e+06  \n",
      "mean   5.242298e-01  2.541831e+00  9.098659e+00  2.222573e+00  5.488176e+00  \n",
      "std    7.996983e-01  1.924933e+00  1.081657e+01  1.623476e+00  3.601372e+00  \n",
      "min   -1.000000e+00  0.000000e+00 -1.000000e+00  0.000000e+00 -1.000000e+00  \n",
      "25%    4.380389e-02  3.500000e-01  1.219490e+00  3.500000e-01  3.732968e+00  \n",
      "50%    2.657682e-01  2.560000e+00  6.496740e+00  2.310000e+00  4.856196e+00  \n",
      "75%    6.957487e-01  4.150000e+00  1.452614e+01  3.550000e+00  7.218970e+00  \n",
      "max    8.826370e+00  1.594000e+01  9.998464e+01  1.594000e+01  1.778533e+01  \n",
      "\n",
      "[8 rows x 59 columns]\n"
     ]
    }
   ],
   "source": [
    "print(combined_data.describe())"
   ]
  },
  {
   "cell_type": "markdown",
   "metadata": {},
   "source": [
    "Load files into separate DataFrames"
   ]
  },
  {
   "cell_type": "code",
   "execution_count": null,
   "metadata": {},
   "outputs": [],
   "source": [
    "# Dictionary to store individual DataFrames\n",
    "data_dict = {}\n",
    "\n",
    "# Load each file to store in the dictionary\n",
    "for file in hotspots_files:\n",
    "    file_path = os.path.join(data_path, file)\n",
    "    year = file.split(\"_\")[0]\n",
    "    data_dict[year] = pd.read_csv(file_path)\n"
   ]
  },
  {
   "cell_type": "code",
   "execution_count": null,
   "metadata": {},
   "outputs": [],
   "source": [
    "print(data_dict[\"2023\"].describe())"
   ]
  }
 ],
 "metadata": {
  "kernelspec": {
   "display_name": "base",
   "language": "python",
   "name": "python3"
  },
  "language_info": {
   "codemirror_mode": {
    "name": "ipython",
    "version": 3
   },
   "file_extension": ".py",
   "mimetype": "text/x-python",
   "name": "python",
   "nbconvert_exporter": "python",
   "pygments_lexer": "ipython3",
   "version": "3.11.7"
  }
 },
 "nbformat": 4,
 "nbformat_minor": 2
}
