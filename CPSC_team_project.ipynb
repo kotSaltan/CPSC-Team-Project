{
 "cells": [
  {
   "cell_type": "code",
   "execution_count": null,
   "metadata": {},
   "outputs": [],
   "source": [
    "import os\n",
    "import pandas as pd\n",
    "\n"
   ]
  },
  {
   "cell_type": "code",
   "execution_count": null,
   "metadata": {},
   "outputs": [],
   "source": [
    "data_path = \"./data/CSV Files/CSV Files\"  # Adjust this path to your folder with CSV files\n",
    "data_path"
   ]
  },
  {
   "cell_type": "markdown",
   "metadata": {},
   "source": [
    "# List and Filter \"Hotspots\" Files"
   ]
  },
  {
   "cell_type": "code",
   "execution_count": null,
   "metadata": {},
   "outputs": [],
   "source": [
    "# List all files in the data directory\n",
    "all_files = os.listdir(data_path)\n",
    "\n",
    "# Filter for files with \"Hotspots\" in their names\n",
    "hotspots_files = [f for f in all_files if \"Hotspots\" in f]\n",
    "print(\"Hotspots Files:\", hotspots_files)\n"
   ]
  },
  {
   "cell_type": "markdown",
   "metadata": {},
   "source": [
    "# Load All \"Hotspots\" Files"
   ]
  },
  {
   "cell_type": "markdown",
   "metadata": {},
   "source": [
    "Load files into a single DataFrame"
   ]
  },
  {
   "cell_type": "code",
   "execution_count": null,
   "metadata": {},
   "outputs": [],
   "source": [
    "# empty list to store DataFrames\n",
    "data_frames = []\n",
    "\n",
    "# Load each file into a DataFrame\n",
    "for file in hotspots_files:\n",
    "    file_path = os.path.join(data_path, file)\n",
    "    df = pd.read_csv(file_path)\n",
    "    \n",
    "    # Add a column to id the year (from the file name)\n",
    "    df[\"Year\"] = file.split(\"_\")[0]\n",
    "    data_frames.append(df)\n",
    "\n",
    "# Combine all DataFrames into a single DataFrame\n",
    "combined_data = pd.concat(data_frames, ignore_index=True)\n",
    "\n",
    "# Check the structure of the df\n",
    "print(combined_data.info())\n"
   ]
  },
  {
   "cell_type": "code",
   "execution_count": null,
   "metadata": {},
   "outputs": [],
   "source": [
    "print(combined_data.describe())"
   ]
  },
  {
   "cell_type": "markdown",
   "metadata": {},
   "source": [
    "Load files into separate DataFrames"
   ]
  },
  {
   "cell_type": "code",
   "execution_count": null,
   "metadata": {},
   "outputs": [],
   "source": [
    "# Dictionary to store individual DataFrames\n",
    "data_dict = {}\n",
    "\n",
    "# Load each file to store in the dictionary\n",
    "for file in hotspots_files:\n",
    "    file_path = os.path.join(data_path, file)\n",
    "    year = file.split(\"_\")[0]\n",
    "    data_dict[year] = pd.read_csv(file_path)\n"
   ]
  },
  {
   "cell_type": "code",
   "execution_count": null,
   "metadata": {},
   "outputs": [],
   "source": [
    "print(data_dict[\"2023\"].describe())"
   ]
  }
 ],
 "metadata": {
  "kernelspec": {
   "display_name": "base",
   "language": "python",
   "name": "python3"
  },
  "language_info": {
   "codemirror_mode": {
    "name": "ipython",
    "version": 3
   },
   "file_extension": ".py",
   "mimetype": "text/x-python",
   "name": "python",
   "nbconvert_exporter": "python",
   "pygments_lexer": "ipython3",
   "version": "3.11.7"
  }
 },
 "nbformat": 4,
 "nbformat_minor": 2
}
